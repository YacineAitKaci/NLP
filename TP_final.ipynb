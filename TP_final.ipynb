{
 "cells": [
  {
   "cell_type": "code",
   "execution_count": 1,
   "metadata": {},
   "outputs": [
    {
     "name": "stderr",
     "output_type": "stream",
     "text": [
      "[nltk_data] Downloading package punkt to\n",
      "[nltk_data]     C:\\Users\\ADMIN\\AppData\\Roaming\\nltk_data...\n",
      "[nltk_data]   Package punkt is already up-to-date!\n",
      "[nltk_data] Downloading package stopwords to\n",
      "[nltk_data]     C:\\Users\\ADMIN\\AppData\\Roaming\\nltk_data...\n",
      "[nltk_data]   Package stopwords is already up-to-date!\n",
      "[nltk_data] Downloading package wordnet to\n",
      "[nltk_data]     C:\\Users\\ADMIN\\AppData\\Roaming\\nltk_data...\n",
      "[nltk_data]   Package wordnet is already up-to-date!\n",
      "[nltk_data] Downloading package punkt_tab to\n",
      "[nltk_data]     C:\\Users\\ADMIN\\AppData\\Roaming\\nltk_data...\n",
      "[nltk_data]   Package punkt_tab is already up-to-date!\n"
     ]
    },
    {
     "data": {
      "text/plain": [
       "True"
      ]
     },
     "execution_count": 1,
     "metadata": {},
     "output_type": "execute_result"
    }
   ],
   "source": [
    "import re\n",
    "import numpy as np\n",
    "import pandas as pd\n",
    "import nltk\n",
    "from nltk.corpus import stopwords\n",
    "from nltk.stem import WordNetLemmatizer\n",
    "from gensim.models import KeyedVectors\n",
    "from tensorflow.keras.utils import to_categorical\n",
    "from tensorflow.keras.models import Sequential\n",
    "from tensorflow.keras.layers import LSTM, Dense, Dropout\n",
    "from tensorflow.keras.optimizers import Adam\n",
    "from sklearn.metrics import classification_report, accuracy_score\n",
    "import matplotlib.pyplot as plt\n",
    "\n",
    "nltk.download('punkt')\n",
    "nltk.download('stopwords')\n",
    "nltk.download('wordnet')\n",
    "nltk.download('punkt_tab')"
   ]
  },
  {
   "cell_type": "code",
   "execution_count": 2,
   "metadata": {},
   "outputs": [
    {
     "name": "stdout",
     "output_type": "stream",
     "text": [
      "Test Dataset Lu\n",
      "Corpus après prétraitement :\n",
      "                                                 text  label\n",
      "0  [im, feeling, rather, rotten, im, ambitious, r...      0\n",
      "1                 [im, updating, blog, feel, shitty]      0\n",
      "2  [never, make, separate, ever, want, feel, like...      0\n",
      "3  [left, bouquet, red, yellow, tulip, arm, feeli...      1\n",
      "4                       [feeling, little, vain, one]      0\n",
      "Corpus après prétraitement :\n",
      "                                                 text  label\n",
      "0                          [didnt, feel, humiliated]      0\n",
      "1  [go, feeling, hopeless, damned, hopeful, aroun...      0\n",
      "2  [im, grabbing, minute, post, feel, greedy, wrong]      3\n",
      "3  [ever, feeling, nostalgic, fireplace, know, st...      2\n",
      "4                                 [feeling, grouchy]      3\n"
     ]
    }
   ],
   "source": [
    "#LIRE LE DATASET\n",
    "\n",
    "train = pd.read_csv('Dataset/training.csv')\n",
    "test = pd.read_csv('Dataset/test.csv')\n",
    "validate = pd.read_csv('Dataset/validation.csv')\n",
    "\n",
    "print(\"Test Dataset Lu\")\n",
    "\n",
    "\n",
    "#PRETRAITEMENT DU DATASET\n",
    "\n",
    "lemmatizer = WordNetLemmatizer()\n",
    "stop_words = set(stopwords.words('english'))\n",
    "valid_labels = [0, 1, 2, 3, 4]  \n",
    "\n",
    "\n",
    "train = train[train['label'].isin(valid_labels)]\n",
    "test = test[test['label'].isin(valid_labels)]\n",
    "validate = validate[validate['label'].isin(valid_labels)]\n",
    "\n",
    "def nettoyer(text):\n",
    "    text = text.lower()\n",
    "    # Supprimer les caractères spéciaux\n",
    "    text = re.sub(r'[^a-zA-Z\\s]', '', text)\n",
    "    # Tokenisation\n",
    "    words = nltk.word_tokenize(text)\n",
    "    # Suppression des mots vides et lemmatisation\n",
    "    words = [lemmatizer.lemmatize(word) for word in words if word not in stop_words]\n",
    "    # Reconstituer le texte prétraité\n",
    "    return words\n",
    "\n",
    "test['text'] = test['text'].apply(nettoyer).tolist()\n",
    "train['text'] = train['text'].apply(nettoyer).tolist()\n",
    "validate['text'] = validate['text'].apply(nettoyer).tolist()\n",
    "\n",
    "# Vérification\n",
    "print(\"Corpus après prétraitement :\\n\", test[:5])\n",
    "print(\"Corpus après prétraitement :\\n\", train[:5])\n"
   ]
  },
  {
   "cell_type": "markdown",
   "metadata": {},
   "source": [
    "Vectorisation Word2Vec"
   ]
  },
  {
   "cell_type": "code",
   "execution_count": 3,
   "metadata": {},
   "outputs": [
    {
     "name": "stdout",
     "output_type": "stream",
     "text": [
      "X_train shape: (15428, 66, 300)\n",
      "y_train shape: (15428, 5)\n",
      "X_test shape: (1934, 66, 300)\n",
      "y_test shape: (1934, 5)\n",
      "X_val shape: (1919, 66, 300)\n",
      "y_val shape: (1919, 5)\n"
     ]
    }
   ],
   "source": [
    "word2vec_model = KeyedVectors.load_word2vec_format('GoogleNews-vectors-negative300.bin.gz', binary=True)\n",
    "\n",
    "def words_to_embedding_sequence(words, model, max_sequence_length):\n",
    "    embeddings = [model[word] if word in model else np.zeros(model.vector_size) for word in words]\n",
    "    while len(embeddings) < max_sequence_length:\n",
    "        embeddings.append(np.zeros(model.vector_size))\n",
    "    return embeddings[:max_sequence_length]\n",
    "\n",
    "def process_dataset(dataset, column, model, max_sequence_length):\n",
    "    return np.array([words_to_embedding_sequence(words, model, max_sequence_length) for words in dataset[column]])\n",
    "\n",
    "max_sequence_length = 66\n",
    "x_train = process_dataset(train, 'text', word2vec_model , max_sequence_length)\n",
    "x_test = process_dataset(test, 'text', word2vec_model, max_sequence_length)\n",
    "x_validate = process_dataset(validate, 'text',word2vec_model, max_sequence_length)\n",
    "\n",
    "# Convertir les labels en one-hot encoding\n",
    "y_train = to_categorical(train['label'], num_classes=5)\n",
    "y_test = to_categorical(test['label'], num_classes=5)\n",
    "y_validate = to_categorical(validate['label'], num_classes=5)\n",
    "\n",
    "\n",
    "print(\"X_train shape:\", x_train.shape)\n",
    "print(\"y_train shape:\", y_train.shape)\n",
    "print(\"X_test shape:\", x_test.shape)\n",
    "print(\"y_test shape:\", y_test.shape)\n",
    "print(\"X_val shape:\", x_validate.shape)\n",
    "print(\"y_val shape:\", y_validate.shape)\n",
    "\n"
   ]
  },
  {
   "cell_type": "markdown",
   "metadata": {},
   "source": [
    "Vectorisation GLOVE"
   ]
  },
  {
   "cell_type": "code",
   "execution_count": 4,
   "metadata": {},
   "outputs": [
    {
     "name": "stdout",
     "output_type": "stream",
     "text": [
      "X_train shape: (15428, 66, 300)\n",
      "y_train shape: (15428, 5)\n",
      "X_test shape: (1934, 66, 300)\n",
      "y_test shape: (1934, 5)\n",
      "X_val shape: (1919, 66, 300)\n",
      "y_val shape: (1919, 5)\n"
     ]
    }
   ],
   "source": [
    "# Charger les embeddings GloVe\n",
    "def load_glove_embeddings(file_path, vector_size=300):\n",
    "    embeddings = {}\n",
    "    with open(file_path, 'r', encoding='utf-8') as f:\n",
    "        for line in f:\n",
    "            parts = line.split()\n",
    "            word = parts[0]\n",
    "            vector = np.array(parts[1:], dtype=np.float32)\n",
    "            embeddings[word] = vector\n",
    "    return embeddings\n",
    "\n",
    "glove_file = \"glove.6B/glove.6B.300d.txt\"  # Chemin vers le fichier GloVe\n",
    "glove_embeddings = load_glove_embeddings(glove_file)\n",
    "\n",
    "# Transformer les mots en séquences d'embeddings avec padding\n",
    "def words_to_embedding_sequence(words, embeddings, max_sequence_length):\n",
    "    vectors = [embeddings[word] if word in embeddings else np.zeros(len(next(iter(embeddings.values())))) for word in words]\n",
    "    while len(vectors) < max_sequence_length:\n",
    "        vectors.append(np.zeros(len(next(iter(embeddings.values())))))\n",
    "    return vectors[:max_sequence_length]\n",
    "\n",
    "# Traiter le dataset pour obtenir des séquences d'embeddings\n",
    "def process_dataset(dataset, column, embeddings, max_sequence_length):\n",
    "    return np.array([words_to_embedding_sequence(words, embeddings, max_sequence_length) for words in dataset[column]])\n",
    "\n",
    "# Paramètres\n",
    "max_sequence_length = 66\n",
    "vector_size = 300  # Taille des vecteurs dans GloVe (par exemple, 300 pour glove.6B.300d.txt)\n",
    "\n",
    "# Appliquer aux datasets\n",
    "x_train = process_dataset(train, 'text', glove_embeddings, max_sequence_length)\n",
    "x_test = process_dataset(test, 'text', glove_embeddings, max_sequence_length)\n",
    "x_validate = process_dataset(validate, 'text', glove_embeddings, max_sequence_length)\n",
    "\n",
    "# Convertir les labels en one-hot encoding\n",
    "y_train = to_categorical(train['label'], num_classes=5)\n",
    "y_test = to_categorical(test['label'], num_classes=5)\n",
    "y_validate = to_categorical(validate['label'], num_classes=5)\n",
    "\n",
    "# Afficher les formes des données\n",
    "print(\"X_train shape:\", x_train.shape)\n",
    "print(\"y_train shape:\", y_train.shape)\n",
    "print(\"X_test shape:\", x_test.shape)\n",
    "print(\"y_test shape:\", y_test.shape)\n",
    "print(\"X_val shape:\", x_validate.shape)\n",
    "print(\"y_val shape:\", y_validate.shape)\n"
   ]
  },
  {
   "cell_type": "markdown",
   "metadata": {},
   "source": [
    "Vectorisation FastText"
   ]
  },
  {
   "cell_type": "code",
   "execution_count": 40,
   "metadata": {},
   "outputs": [
    {
     "name": "stdout",
     "output_type": "stream",
     "text": [
      "X_train shape: (15428, 66, 300)\n",
      "y_train shape: (15428, 5)\n",
      "X_test shape: (1934, 66, 300)\n",
      "y_test shape: (1934, 5)\n",
      "X_val shape: (1919, 66, 300)\n",
      "y_val shape: (1919, 5)\n"
     ]
    }
   ],
   "source": [
    "fasttext_model_path = 'wiki-news-300d-1M.vec'\n",
    "fasttext_model = KeyedVectors.load_word2vec_format(fasttext_model_path, binary=False)\n",
    "\n",
    "def words_to_embedding_sequence(words, embeddings, max_sequence_length):\n",
    "    vectors = [embeddings[word] if word in embeddings else np.zeros(embeddings.vector_size) for word in words]\n",
    "    while len(vectors) < max_sequence_length:\n",
    "        vectors.append(np.zeros(embeddings.vector_size))\n",
    "    return vectors[:max_sequence_length]\n",
    "\n",
    "# Traiter le dataset pour obtenir des séquences d'embeddings\n",
    "def process_dataset(dataset, column, embeddings, max_sequence_length):\n",
    "    return np.array([words_to_embedding_sequence(words, embeddings, max_sequence_length) for words in dataset[column]])\n",
    "\n",
    "# Paramètres\n",
    "max_sequence_length = 66\n",
    "vector_size = 300  # Taille des vecteurs dans GloVe (par exemple, 300 pour glove.6B.300d.txt)\n",
    "\n",
    "# Appliquer aux datasets\n",
    "x_train = process_dataset(train, 'text', fasttext_model, max_sequence_length)\n",
    "x_test = process_dataset(test, 'text', fasttext_model, max_sequence_length)\n",
    "x_validate = process_dataset(validate, 'text', fasttext_model, max_sequence_length)\n",
    "\n",
    "# Convertir les labels en one-hot encoding\n",
    "y_train = to_categorical(train['label'], num_classes=5)\n",
    "y_test = to_categorical(test['label'], num_classes=5)\n",
    "y_validate = to_categorical(validate['label'], num_classes=5)\n",
    "\n",
    "# Afficher les formes des données\n",
    "print(\"X_train shape:\", x_train.shape)\n",
    "print(\"y_train shape:\", y_train.shape)\n",
    "print(\"X_test shape:\", x_test.shape)\n",
    "print(\"y_test shape:\", y_test.shape)\n",
    "print(\"X_val shape:\", x_validate.shape)\n",
    "print(\"y_val shape:\", y_validate.shape)"
   ]
  },
  {
   "cell_type": "markdown",
   "metadata": {},
   "source": [
    "Vectorisation Bert(Transformers)"
   ]
  },
  {
   "cell_type": "code",
   "execution_count": null,
   "metadata": {},
   "outputs": [],
   "source": [
    "from transformers import BertTokenizer, BertModel\n",
    "import torch\n",
    "import numpy as np\n",
    "\n",
    "model_name = \"bert-base-uncased\"\n",
    "tokenizer = BertTokenizer.from_pretrained(model_name)\n",
    "bert_model = BertModel.from_pretrained(model_name)\n",
    "\n",
    "def words_to_embedding_sequence(sentence, tokenizer, model, max_sequence_length=66, embedding_dim=300):\n",
    "    encoded_input = tokenizer(sentence, truncation=True, padding='max_length', max_length=max_sequence_length, return_tensors=\"pt\")\n",
    "    input_ids = encoded_input[\"input_ids\"]\n",
    "    attention_mask = encoded_input[\"attention_mask\"]\n",
    "    with torch.no_grad():\n",
    "        outputs = model(input_ids, attention_mask=attention_mask)\n",
    "        last_hidden_state = outputs.last_hidden_state\n",
    "    token_embeddings = last_hidden_state[:, :max_sequence_length, :embedding_dim].squeeze(0).cpu().numpy()\n",
    "    return token_embeddings\n",
    "\n",
    "def process_dataset_with_bert(dataset, column, tokenizer, model, max_sequence_length=66, embedding_dim=300):\n",
    "    return np.array([words_to_embedding_sequence(\" \".join(sentence) if isinstance(sentence, list) else sentence, tokenizer, model, max_sequence_length, embedding_dim) for sentence in dataset[column]])\n",
    "\n",
    "x_train = process_dataset_with_bert(train, 'text', tokenizer, bert_model)\n",
    "x_test = process_dataset_with_bert(test, 'text', tokenizer, bert_model)\n",
    "x_validate = process_dataset_with_bert(validate, 'text', tokenizer, bert_model)\n",
    "\n",
    "print(\"X_train shape:\", x_train.shape)\n",
    "print(\"X_test shape:\", x_test.shape)\n",
    "print(\"X_val shape:\", x_validate.shape)\n"
   ]
  },
  {
   "cell_type": "markdown",
   "metadata": {},
   "source": [
    "Creation Model LSTM"
   ]
  },
  {
   "cell_type": "code",
   "execution_count": 4,
   "metadata": {},
   "outputs": [
    {
     "name": "stderr",
     "output_type": "stream",
     "text": [
      "c:\\Users\\ADMIN\\AppData\\Local\\Programs\\Python\\Python312\\Lib\\site-packages\\keras\\src\\layers\\rnn\\rnn.py:200: UserWarning: Do not pass an `input_shape`/`input_dim` argument to a layer. When using Sequential models, prefer using an `Input(shape)` object as the first layer in the model instead.\n",
      "  super().__init__(**kwargs)\n"
     ]
    },
    {
     "data": {
      "text/html": [
       "<pre style=\"white-space:pre;overflow-x:auto;line-height:normal;font-family:Menlo,'DejaVu Sans Mono',consolas,'Courier New',monospace\"><span style=\"font-weight: bold\">Model: \"sequential\"</span>\n",
       "</pre>\n"
      ],
      "text/plain": [
       "\u001b[1mModel: \"sequential\"\u001b[0m\n"
      ]
     },
     "metadata": {},
     "output_type": "display_data"
    },
    {
     "data": {
      "text/html": [
       "<pre style=\"white-space:pre;overflow-x:auto;line-height:normal;font-family:Menlo,'DejaVu Sans Mono',consolas,'Courier New',monospace\">┏━━━━━━━━━━━━━━━━━━━━━━━━━━━━━━━━━┳━━━━━━━━━━━━━━━━━━━━━━━━┳━━━━━━━━━━━━━━━┓\n",
       "┃<span style=\"font-weight: bold\"> Layer (type)                    </span>┃<span style=\"font-weight: bold\"> Output Shape           </span>┃<span style=\"font-weight: bold\">       Param # </span>┃\n",
       "┡━━━━━━━━━━━━━━━━━━━━━━━━━━━━━━━━━╇━━━━━━━━━━━━━━━━━━━━━━━━╇━━━━━━━━━━━━━━━┩\n",
       "│ lstm (<span style=\"color: #0087ff; text-decoration-color: #0087ff\">LSTM</span>)                     │ (<span style=\"color: #00d7ff; text-decoration-color: #00d7ff\">None</span>, <span style=\"color: #00af00; text-decoration-color: #00af00\">128</span>)            │       <span style=\"color: #00af00; text-decoration-color: #00af00\">219,648</span> │\n",
       "├─────────────────────────────────┼────────────────────────┼───────────────┤\n",
       "│ dropout (<span style=\"color: #0087ff; text-decoration-color: #0087ff\">Dropout</span>)               │ (<span style=\"color: #00d7ff; text-decoration-color: #00d7ff\">None</span>, <span style=\"color: #00af00; text-decoration-color: #00af00\">128</span>)            │             <span style=\"color: #00af00; text-decoration-color: #00af00\">0</span> │\n",
       "├─────────────────────────────────┼────────────────────────┼───────────────┤\n",
       "│ dense (<span style=\"color: #0087ff; text-decoration-color: #0087ff\">Dense</span>)                   │ (<span style=\"color: #00d7ff; text-decoration-color: #00d7ff\">None</span>, <span style=\"color: #00af00; text-decoration-color: #00af00\">5</span>)              │           <span style=\"color: #00af00; text-decoration-color: #00af00\">645</span> │\n",
       "└─────────────────────────────────┴────────────────────────┴───────────────┘\n",
       "</pre>\n"
      ],
      "text/plain": [
       "┏━━━━━━━━━━━━━━━━━━━━━━━━━━━━━━━━━┳━━━━━━━━━━━━━━━━━━━━━━━━┳━━━━━━━━━━━━━━━┓\n",
       "┃\u001b[1m \u001b[0m\u001b[1mLayer (type)                   \u001b[0m\u001b[1m \u001b[0m┃\u001b[1m \u001b[0m\u001b[1mOutput Shape          \u001b[0m\u001b[1m \u001b[0m┃\u001b[1m \u001b[0m\u001b[1m      Param #\u001b[0m\u001b[1m \u001b[0m┃\n",
       "┡━━━━━━━━━━━━━━━━━━━━━━━━━━━━━━━━━╇━━━━━━━━━━━━━━━━━━━━━━━━╇━━━━━━━━━━━━━━━┩\n",
       "│ lstm (\u001b[38;5;33mLSTM\u001b[0m)                     │ (\u001b[38;5;45mNone\u001b[0m, \u001b[38;5;34m128\u001b[0m)            │       \u001b[38;5;34m219,648\u001b[0m │\n",
       "├─────────────────────────────────┼────────────────────────┼───────────────┤\n",
       "│ dropout (\u001b[38;5;33mDropout\u001b[0m)               │ (\u001b[38;5;45mNone\u001b[0m, \u001b[38;5;34m128\u001b[0m)            │             \u001b[38;5;34m0\u001b[0m │\n",
       "├─────────────────────────────────┼────────────────────────┼───────────────┤\n",
       "│ dense (\u001b[38;5;33mDense\u001b[0m)                   │ (\u001b[38;5;45mNone\u001b[0m, \u001b[38;5;34m5\u001b[0m)              │           \u001b[38;5;34m645\u001b[0m │\n",
       "└─────────────────────────────────┴────────────────────────┴───────────────┘\n"
      ]
     },
     "metadata": {},
     "output_type": "display_data"
    },
    {
     "data": {
      "text/html": [
       "<pre style=\"white-space:pre;overflow-x:auto;line-height:normal;font-family:Menlo,'DejaVu Sans Mono',consolas,'Courier New',monospace\"><span style=\"font-weight: bold\"> Total params: </span><span style=\"color: #00af00; text-decoration-color: #00af00\">220,293</span> (860.52 KB)\n",
       "</pre>\n"
      ],
      "text/plain": [
       "\u001b[1m Total params: \u001b[0m\u001b[38;5;34m220,293\u001b[0m (860.52 KB)\n"
      ]
     },
     "metadata": {},
     "output_type": "display_data"
    },
    {
     "data": {
      "text/html": [
       "<pre style=\"white-space:pre;overflow-x:auto;line-height:normal;font-family:Menlo,'DejaVu Sans Mono',consolas,'Courier New',monospace\"><span style=\"font-weight: bold\"> Trainable params: </span><span style=\"color: #00af00; text-decoration-color: #00af00\">220,293</span> (860.52 KB)\n",
       "</pre>\n"
      ],
      "text/plain": [
       "\u001b[1m Trainable params: \u001b[0m\u001b[38;5;34m220,293\u001b[0m (860.52 KB)\n"
      ]
     },
     "metadata": {},
     "output_type": "display_data"
    },
    {
     "data": {
      "text/html": [
       "<pre style=\"white-space:pre;overflow-x:auto;line-height:normal;font-family:Menlo,'DejaVu Sans Mono',consolas,'Courier New',monospace\"><span style=\"font-weight: bold\"> Non-trainable params: </span><span style=\"color: #00af00; text-decoration-color: #00af00\">0</span> (0.00 B)\n",
       "</pre>\n"
      ],
      "text/plain": [
       "\u001b[1m Non-trainable params: \u001b[0m\u001b[38;5;34m0\u001b[0m (0.00 B)\n"
      ]
     },
     "metadata": {},
     "output_type": "display_data"
    }
   ],
   "source": [
    "def create_lstm_model(input_shape, num_classes, lstm_units=128):\n",
    "    model = Sequential()\n",
    "    model.add(LSTM(lstm_units, input_shape=input_shape, return_sequences=False))\n",
    "    model.add(Dropout(0.3))\n",
    "    model.add(Dense(num_classes, activation='softmax'))\n",
    "    model.compile(loss='categorical_crossentropy', optimizer=Adam(), metrics=['accuracy'])\n",
    "    return model\n",
    "\n",
    "input_shape = (66, 300)\n",
    "num_classes = 5\n",
    "lstm_model = create_lstm_model(input_shape, num_classes)\n",
    "lstm_model.summary()\n"
   ]
  },
  {
   "cell_type": "code",
   "execution_count": 5,
   "metadata": {},
   "outputs": [
    {
     "name": "stdout",
     "output_type": "stream",
     "text": [
      "Epoch 1/10\n",
      "\u001b[1m483/483\u001b[0m \u001b[32m━━━━━━━━━━━━━━━━━━━━\u001b[0m\u001b[37m\u001b[0m \u001b[1m39s\u001b[0m 76ms/step - accuracy: 0.4393 - loss: 1.3416 - val_accuracy: 0.6404 - val_loss: 0.9631\n",
      "Epoch 2/10\n",
      "\u001b[1m483/483\u001b[0m \u001b[32m━━━━━━━━━━━━━━━━━━━━\u001b[0m\u001b[37m\u001b[0m \u001b[1m44s\u001b[0m 90ms/step - accuracy: 0.6655 - loss: 0.9151 - val_accuracy: 0.7478 - val_loss: 0.7578\n",
      "Epoch 3/10\n",
      "\u001b[1m483/483\u001b[0m \u001b[32m━━━━━━━━━━━━━━━━━━━━\u001b[0m\u001b[37m\u001b[0m \u001b[1m44s\u001b[0m 92ms/step - accuracy: 0.7941 - loss: 0.6321 - val_accuracy: 0.8327 - val_loss: 0.4874\n",
      "Epoch 4/10\n",
      "\u001b[1m483/483\u001b[0m \u001b[32m━━━━━━━━━━━━━━━━━━━━\u001b[0m\u001b[37m\u001b[0m \u001b[1m47s\u001b[0m 96ms/step - accuracy: 0.8409 - loss: 0.4648 - val_accuracy: 0.7869 - val_loss: 0.4595\n",
      "Epoch 5/10\n",
      "\u001b[1m483/483\u001b[0m \u001b[32m━━━━━━━━━━━━━━━━━━━━\u001b[0m\u001b[37m\u001b[0m \u001b[1m47s\u001b[0m 97ms/step - accuracy: 0.8619 - loss: 0.3547 - val_accuracy: 0.8713 - val_loss: 0.3773\n",
      "Epoch 6/10\n",
      "\u001b[1m483/483\u001b[0m \u001b[32m━━━━━━━━━━━━━━━━━━━━\u001b[0m\u001b[37m\u001b[0m \u001b[1m49s\u001b[0m 102ms/step - accuracy: 0.9048 - loss: 0.2963 - val_accuracy: 0.8828 - val_loss: 0.3634\n",
      "Epoch 7/10\n",
      "\u001b[1m483/483\u001b[0m \u001b[32m━━━━━━━━━━━━━━━━━━━━\u001b[0m\u001b[37m\u001b[0m \u001b[1m49s\u001b[0m 101ms/step - accuracy: 0.8954 - loss: 0.3177 - val_accuracy: 0.9161 - val_loss: 0.2308\n",
      "Epoch 8/10\n",
      "\u001b[1m483/483\u001b[0m \u001b[32m━━━━━━━━━━━━━━━━━━━━\u001b[0m\u001b[37m\u001b[0m \u001b[1m47s\u001b[0m 96ms/step - accuracy: 0.9315 - loss: 0.1994 - val_accuracy: 0.9145 - val_loss: 0.2590\n",
      "Epoch 9/10\n",
      "\u001b[1m483/483\u001b[0m \u001b[32m━━━━━━━━━━━━━━━━━━━━\u001b[0m\u001b[37m\u001b[0m \u001b[1m46s\u001b[0m 96ms/step - accuracy: 0.9299 - loss: 0.2110 - val_accuracy: 0.9286 - val_loss: 0.2010\n",
      "Epoch 10/10\n",
      "\u001b[1m483/483\u001b[0m \u001b[32m━━━━━━━━━━━━━━━━━━━━\u001b[0m\u001b[37m\u001b[0m \u001b[1m37s\u001b[0m 77ms/step - accuracy: 0.9325 - loss: 0.1839 - val_accuracy: 0.8025 - val_loss: 0.4880\n"
     ]
    },
    {
     "data": {
      "image/png": "[encoded data removed]",
      "text/plain": [
       "<Figure size 640x480 with 1 Axes>"
      ]
     },
     "metadata": {},
     "output_type": "display_data"
    },
    {
     "name": "stdout",
     "output_type": "stream",
     "text": [
      "\u001b[1m61/61\u001b[0m \u001b[32m━━━━━━━━━━━━━━━━━━━━\u001b[0m\u001b[37m\u001b[0m \u001b[1m2s\u001b[0m 34ms/step - accuracy: 0.7838 - loss: 0.4966\n",
      "Test Loss: 0.4892, Test Accuracy: 0.7906\n",
      "\u001b[1m61/61\u001b[0m \u001b[32m━━━━━━━━━━━━━━━━━━━━\u001b[0m\u001b[37m\u001b[0m \u001b[1m2s\u001b[0m 32ms/step\n",
      "Accuracy: 0.7905894519131335\n",
      "\n",
      "Classification Report:\n",
      "\n",
      "              precision    recall  f1-score   support\n",
      "\n",
      "     sadness       0.83      0.80      0.81       581\n",
      "         joy       0.70      0.91      0.79       695\n",
      "        love       0.90      0.06      0.11       159\n",
      "       anger       0.89      0.82      0.85       275\n",
      "        fear       0.96      0.88      0.92       224\n",
      "\n",
      "    accuracy                           0.79      1934\n",
      "   macro avg       0.85      0.69      0.70      1934\n",
      "weighted avg       0.81      0.79      0.77      1934\n",
      "\n"
     ]
    }
   ],
   "source": [
    "# Entraînement du modèle avec validation à chaque époque\n",
    "history = lstm_model.fit(\n",
    "    x_train, y_train,  # Données d'entraînement\n",
    "    validation_data=(x_validate, y_validate),  # Données de validation\n",
    "    epochs=10,  # Nombre d'époques\n",
    "    batch_size=32  # Taille des lots\n",
    ")\n",
    "\n",
    "# Visualisation de l'accuracy d'entraînement et de validation\n",
    "plt.plot(history.history['accuracy'], label='Train Accuracy')\n",
    "plt.plot(history.history['loss'], label='Loss')\n",
    "plt.title('Précision d\\'entraînement et validation')\n",
    "plt.xlabel('Époque')\n",
    "plt.ylabel('Précision')\n",
    "plt.legend()\n",
    "plt.show()\n",
    "\n",
    "# Évaluation du modèle sur le jeu de test\n",
    "test_loss, test_accuracy = lstm_model.evaluate(x_test, y_test)\n",
    "print(f\"Test Loss: {test_loss:.4f}, Test Accuracy: {test_accuracy:.4f}\")\n",
    "\n",
    "# Prédictions sur le jeu de test\n",
    "y_pred = lstm_model.predict(x_test)\n",
    "y_pred_classes = np.argmax(y_pred, axis=1)\n",
    "y_true = np.argmax(y_test, axis=1)\n",
    "\n",
    "# Calcul des métriques (accuracy, précision, rappel, F1-score)\n",
    "print(\"Accuracy:\", accuracy_score(y_true, y_pred_classes))\n",
    "print(\"\\nClassification Report:\\n\")\n",
    "print(classification_report(y_true, y_pred_classes, target_names=['sadness', 'joy', 'love', 'anger', 'fear']))"
   ]
  },
  {
   "cell_type": "code",
   "execution_count": null,
   "metadata": {},
   "outputs": [],
   "source": []
  }
 ],
 "metadata": {
  "kernelspec": {
   "display_name": "Python 3",
   "language": "python",
   "name": "python3"
  },
  "language_info": {
   "codemirror_mode": {
    "name": "ipython",
    "version": 3
   },
   "file_extension": ".py",
   "mimetype": "text/x-python",
   "name": "python",
   "nbconvert_exporter": "python",
   "pygments_lexer": "ipython3",
   "version": "3.12.1"
  }
 },
 "nbformat": 4,
 "nbformat_minor": 2
}
