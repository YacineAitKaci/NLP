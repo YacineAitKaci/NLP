{
 "cells": [
  {
   "cell_type": "code",
   "execution_count": 20,
   "metadata": {},
   "outputs": [
    {
     "name": "stderr",
     "output_type": "stream",
     "text": [
      "[nltk_data] Downloading package punkt to\n",
      "[nltk_data]     C:\\Users\\ADMIN\\AppData\\Roaming\\nltk_data...\n",
      "[nltk_data]   Package punkt is already up-to-date!\n",
      "[nltk_data] Downloading package stopwords to\n",
      "[nltk_data]     C:\\Users\\ADMIN\\AppData\\Roaming\\nltk_data...\n",
      "[nltk_data]   Package stopwords is already up-to-date!\n",
      "[nltk_data] Downloading package wordnet to\n",
      "[nltk_data]     C:\\Users\\ADMIN\\AppData\\Roaming\\nltk_data...\n",
      "[nltk_data]   Package wordnet is already up-to-date!\n",
      "[nltk_data] Downloading package punkt_tab to\n",
      "[nltk_data]     C:\\Users\\ADMIN\\AppData\\Roaming\\nltk_data...\n",
      "[nltk_data]   Package punkt_tab is already up-to-date!\n"
     ]
    },
    {
     "data": {
      "text/plain": [
       "True"
      ]
     },
     "execution_count": 20,
     "metadata": {},
     "output_type": "execute_result"
    }
   ],
   "source": [
    "import re\n",
    "import numpy as np\n",
    "import pandas as pd\n",
    "import nltk\n",
    "from nltk.corpus import stopwords\n",
    "from nltk.stem import WordNetLemmatizer\n",
    "from gensim.models import KeyedVectors\n",
    "from tensorflow.keras.utils import to_categorical\n",
    "from tensorflow.keras.models import Sequential\n",
    "from tensorflow.keras.layers import LSTM, Dense, Dropout\n",
    "from tensorflow.keras.optimizers import Adam\n",
    "from sklearn.metrics import classification_report, accuracy_score\n",
    "import matplotlib.pyplot as plt\n",
    "\n",
    "nltk.download('punkt')\n",
    "nltk.download('stopwords')\n",
    "nltk.download('wordnet')\n",
    "nltk.download('punkt_tab')"
   ]
  },
  {
   "cell_type": "code",
   "execution_count": 21,
   "metadata": {},
   "outputs": [
    {
     "name": "stdout",
     "output_type": "stream",
     "text": [
      "Test Dataset Lu\n",
      "Corpus après prétraitement :\n",
      "                                                 text  label\n",
      "0  [im, feeling, rather, rotten, im, ambitious, r...      0\n",
      "1                 [im, updating, blog, feel, shitty]      0\n",
      "2  [never, make, separate, ever, want, feel, like...      0\n",
      "3  [left, bouquet, red, yellow, tulip, arm, feeli...      1\n",
      "4                       [feeling, little, vain, one]      0\n",
      "Corpus après prétraitement :\n",
      "                                                 text  label\n",
      "0                          [didnt, feel, humiliated]      0\n",
      "1  [go, feeling, hopeless, damned, hopeful, aroun...      0\n",
      "2  [im, grabbing, minute, post, feel, greedy, wrong]      3\n",
      "3  [ever, feeling, nostalgic, fireplace, know, st...      2\n",
      "4                                 [feeling, grouchy]      3\n"
     ]
    }
   ],
   "source": [
    "#LIRE LE DATASET\n",
    "\n",
    "train = pd.read_csv('Dataset/training.csv')\n",
    "test = pd.read_csv('Dataset/test.csv')\n",
    "validate = pd.read_csv('Dataset/validation.csv')\n",
    "\n",
    "print(\"Test Dataset Lu\")\n",
    "\n",
    "\n",
    "#PRETRAITEMENT DU DATASET\n",
    "\n",
    "lemmatizer = WordNetLemmatizer()\n",
    "stop_words = set(stopwords.words('english'))\n",
    "valid_labels = [0, 1, 2, 3, 4]  \n",
    "\n",
    "\n",
    "train = train[train['label'].isin(valid_labels)]\n",
    "test = test[test['label'].isin(valid_labels)]\n",
    "validate = validate[validate['label'].isin(valid_labels)]\n",
    "\n",
    "def nettoyer(text):\n",
    "    text = text.lower()\n",
    "    # Supprimer les caractères spéciaux\n",
    "    text = re.sub(r'[^a-zA-Z\\s]', '', text)\n",
    "    # Tokenisation\n",
    "    words = nltk.word_tokenize(text)\n",
    "    # Suppression des mots vides et lemmatisation\n",
    "    words = [lemmatizer.lemmatize(word) for word in words if word not in stop_words]\n",
    "    # Reconstituer le texte prétraité\n",
    "    return words\n",
    "\n",
    "test['text'] = test['text'].apply(nettoyer).tolist()\n",
    "train['text'] = train['text'].apply(nettoyer).tolist()\n",
    "validate['text'] = validate['text'].apply(nettoyer).tolist()\n",
    "\n",
    "# Vérification\n",
    "print(\"Corpus après prétraitement :\\n\", test[:5])\n",
    "print(\"Corpus après prétraitement :\\n\", train[:5])\n"
   ]
  },
  {
   "cell_type": "markdown",
   "metadata": {},
   "source": [
    "Vectorisation Word2Vec"
   ]
  },
  {
   "cell_type": "code",
   "execution_count": 11,
   "metadata": {},
   "outputs": [
    {
     "name": "stdout",
     "output_type": "stream",
     "text": [
      "X_train shape: (15428, 66, 300)\n",
      "y_train shape: (15428, 5)\n",
      "X_test shape: (1934, 66, 300)\n",
      "y_test shape: (1934, 5)\n",
      "X_val shape: (1919, 66, 300)\n",
      "y_val shape: (1919, 5)\n"
     ]
    }
   ],
   "source": [
    "word2vec_model = KeyedVectors.load_word2vec_format('GoogleNews-vectors-negative300.bin.gz', binary=True)\n",
    "\n",
    "def words_to_embedding_sequence(words, model, max_sequence_length):\n",
    "    embeddings = [model[word] if word in model else np.zeros(model.vector_size) for word in words]\n",
    "    while len(embeddings) < max_sequence_length:\n",
    "        embeddings.append(np.zeros(model.vector_size))\n",
    "    return embeddings[:max_sequence_length]\n",
    "\n",
    "def process_dataset(dataset, column, model, max_sequence_length):\n",
    "    return np.array([words_to_embedding_sequence(words, model, max_sequence_length) for words in dataset[column]])\n",
    "\n",
    "max_sequence_length = 66\n",
    "x_train = process_dataset(train, 'text', word2vec_model , max_sequence_length)\n",
    "x_test = process_dataset(test, 'text', word2vec_model, max_sequence_length)\n",
    "x_validate = process_dataset(validate, 'text',word2vec_model, max_sequence_length)\n",
    "\n",
    "# Convertir les labels en one-hot encoding\n",
    "y_train = to_categorical(train['label'], num_classes=5)\n",
    "y_test = to_categorical(test['label'], num_classes=5)\n",
    "y_validate = to_categorical(validate['label'], num_classes=5)\n",
    "\n",
    "\n",
    "print(\"X_train shape:\", x_train.shape)\n",
    "print(\"y_train shape:\", y_train.shape)\n",
    "print(\"X_test shape:\", x_test.shape)\n",
    "print(\"y_test shape:\", y_test.shape)\n",
    "print(\"X_val shape:\", x_validate.shape)\n",
    "print(\"y_val shape:\", y_validate.shape)\n",
    "\n"
   ]
  },
  {
   "cell_type": "markdown",
   "metadata": {},
   "source": [
    "Vectorisation GLOVE"
   ]
  },
  {
   "cell_type": "code",
   "execution_count": 22,
   "metadata": {},
   "outputs": [
    {
     "name": "stdout",
     "output_type": "stream",
     "text": [
      "X_train shape: (15428, 66, 300)\n",
      "y_train shape: (15428, 5)\n",
      "X_test shape: (1934, 66, 300)\n",
      "y_test shape: (1934, 5)\n",
      "X_val shape: (1919, 66, 300)\n",
      "y_val shape: (1919, 5)\n"
     ]
    }
   ],
   "source": [
    "# Charger les embeddings GloVe\n",
    "def load_glove_embeddings(file_path, vector_size=300):\n",
    "    embeddings = {}\n",
    "    with open(file_path, 'r', encoding='utf-8') as f:\n",
    "        for line in f:\n",
    "            parts = line.split()\n",
    "            word = parts[0]\n",
    "            vector = np.array(parts[1:], dtype=np.float32)\n",
    "            embeddings[word] = vector\n",
    "    return embeddings\n",
    "\n",
    "glove_file = \"glove.6B/glove.6B.300d.txt\"  # Chemin vers le fichier GloVe\n",
    "glove_embeddings = load_glove_embeddings(glove_file)\n",
    "\n",
    "# Transformer les mots en séquences d'embeddings avec padding\n",
    "def words_to_embedding_sequence(words, embeddings, max_sequence_length):\n",
    "    vectors = [embeddings[word] if word in embeddings else np.zeros(len(next(iter(embeddings.values())))) for word in words]\n",
    "    while len(vectors) < max_sequence_length:\n",
    "        vectors.append(np.zeros(len(next(iter(embeddings.values())))))\n",
    "    return vectors[:max_sequence_length]\n",
    "\n",
    "# Traiter le dataset pour obtenir des séquences d'embeddings\n",
    "def process_dataset(dataset, column, embeddings, max_sequence_length):\n",
    "    return np.array([words_to_embedding_sequence(words, embeddings, max_sequence_length) for words in dataset[column]])\n",
    "\n",
    "# Paramètres\n",
    "max_sequence_length = 66\n",
    "vector_size = 300  # Taille des vecteurs dans GloVe (par exemple, 300 pour glove.6B.300d.txt)\n",
    "\n",
    "# Appliquer aux datasets\n",
    "x_train = process_dataset(train, 'text', glove_embeddings, max_sequence_length)\n",
    "x_test = process_dataset(test, 'text', glove_embeddings, max_sequence_length)\n",
    "x_validate = process_dataset(validate, 'text', glove_embeddings, max_sequence_length)\n",
    "\n",
    "# Convertir les labels en one-hot encoding\n",
    "y_train = to_categorical(train['label'], num_classes=5)\n",
    "y_test = to_categorical(test['label'], num_classes=5)\n",
    "y_validate = to_categorical(validate['label'], num_classes=5)\n",
    "\n",
    "# Afficher les formes des données\n",
    "print(\"X_train shape:\", x_train.shape)\n",
    "print(\"y_train shape:\", y_train.shape)\n",
    "print(\"X_test shape:\", x_test.shape)\n",
    "print(\"y_test shape:\", y_test.shape)\n",
    "print(\"X_val shape:\", x_validate.shape)\n",
    "print(\"y_val shape:\", y_validate.shape)\n"
   ]
  },
  {
   "cell_type": "markdown",
   "metadata": {},
   "source": [
    "Vectorisation FastText"
   ]
  },
  {
   "cell_type": "code",
   "execution_count": 6,
   "metadata": {},
   "outputs": [
    {
     "name": "stdout",
     "output_type": "stream",
     "text": [
      "X_train shape: (15428, 66, 300)\n",
      "y_train shape: (15428, 5)\n",
      "X_test shape: (1934, 66, 300)\n",
      "y_test shape: (1934, 5)\n",
      "X_val shape: (1919, 66, 300)\n",
      "y_val shape: (1919, 5)\n"
     ]
    }
   ],
   "source": [
    "fasttext_model_path = 'wiki-news-300d-1M.vec'\n",
    "fasttext_model = KeyedVectors.load_word2vec_format(fasttext_model_path, binary=False)\n",
    "\n",
    "def words_to_embedding_sequence(words, embeddings, max_sequence_length):\n",
    "    vectors = [embeddings[word] if word in embeddings else np.zeros(embeddings.vector_size) for word in words]\n",
    "    while len(vectors) < max_sequence_length:\n",
    "        vectors.append(np.zeros(embeddings.vector_size))\n",
    "    return vectors[:max_sequence_length]\n",
    "\n",
    "# Traiter le dataset pour obtenir des séquences d'embeddings\n",
    "def process_dataset(dataset, column, embeddings, max_sequence_length):\n",
    "    return np.array([words_to_embedding_sequence(words, embeddings, max_sequence_length) for words in dataset[column]])\n",
    "\n",
    "# Paramètres\n",
    "max_sequence_length = 66\n",
    "vector_size = 300  # Taille des vecteurs dans GloVe (par exemple, 300 pour glove.6B.300d.txt)\n",
    "\n",
    "# Appliquer aux datasets\n",
    "x_train = process_dataset(train, 'text', fasttext_model, max_sequence_length)\n",
    "x_test = process_dataset(test, 'text', fasttext_model, max_sequence_length)\n",
    "x_validate = process_dataset(validate, 'text', fasttext_model, max_sequence_length)\n",
    "\n",
    "# Convertir les labels en one-hot encoding\n",
    "y_train = to_categorical(train['label'], num_classes=5)\n",
    "y_test = to_categorical(test['label'], num_classes=5)\n",
    "y_validate = to_categorical(validate['label'], num_classes=5)\n",
    "\n",
    "# Afficher les formes des données\n",
    "print(\"X_train shape:\", x_train.shape)\n",
    "print(\"y_train shape:\", y_train.shape)\n",
    "print(\"X_test shape:\", x_test.shape)\n",
    "print(\"y_test shape:\", y_test.shape)\n",
    "print(\"X_val shape:\", x_validate.shape)\n",
    "print(\"y_val shape:\", y_validate.shape)"
   ]
  },
  {
   "cell_type": "markdown",
   "metadata": {},
   "source": [
    "Vectorisation Bert(Transformers)"
   ]
  },
  {
   "cell_type": "code",
   "execution_count": 9,
   "metadata": {},
   "outputs": [
    {
     "name": "stderr",
     "output_type": "stream",
     "text": [
      "c:\\Users\\ADMIN\\AppData\\Local\\Programs\\Python\\Python312\\Lib\\site-packages\\tqdm\\auto.py:21: TqdmWarning: IProgress not found. Please update jupyter and ipywidgets. See https://ipywidgets.readthedocs.io/en/stable/user_install.html\n",
      "  from .autonotebook import tqdm as notebook_tqdm\n",
      "c:\\Users\\ADMIN\\AppData\\Local\\Programs\\Python\\Python312\\Lib\\site-packages\\huggingface_hub\\file_download.py:147: UserWarning: `huggingface_hub` cache-system uses symlinks by default to efficiently store duplicated files but your machine does not support them in C:\\Users\\ADMIN\\.cache\\huggingface\\hub\\models--bert-base-uncased. Caching files will still work but in a degraded version that might require more space on your disk. This warning can be disabled by setting the `HF_HUB_DISABLE_SYMLINKS_WARNING` environment variable. For more details, see https://huggingface.co/docs/huggingface_hub/how-to-cache#limitations.\n",
      "To support symlinks on Windows, you either need to activate Developer Mode or to run Python as an administrator. In order to activate developer mode, see this article: https://docs.microsoft.com/en-us/windows/apps/get-started/enable-your-device-for-development\n",
      "  warnings.warn(message)\n"
     ]
    },
    {
     "name": "stdout",
     "output_type": "stream",
     "text": [
      "X_train shape: (15428, 66, 300)\n",
      "X_test shape: (1934, 66, 300)\n",
      "X_val shape: (1919, 66, 300)\n"
     ]
    }
   ],
   "source": [
    "from transformers import BertTokenizer, BertModel\n",
    "import torch\n",
    "import numpy as np\n",
    "\n",
    "model_name = \"bert-base-uncased\"\n",
    "tokenizer = BertTokenizer.from_pretrained(model_name)\n",
    "bert_model = BertModel.from_pretrained(model_name)\n",
    "\n",
    "def words_to_embedding_sequence(sentence, tokenizer, model, max_sequence_length=66, embedding_dim=300):\n",
    "    encoded_input = tokenizer(sentence, truncation=True, padding='max_length', max_length=max_sequence_length, return_tensors=\"pt\")\n",
    "    input_ids = encoded_input[\"input_ids\"]\n",
    "    attention_mask = encoded_input[\"attention_mask\"]\n",
    "    with torch.no_grad():\n",
    "        outputs = model(input_ids, attention_mask=attention_mask)\n",
    "        last_hidden_state = outputs.last_hidden_state\n",
    "    token_embeddings = last_hidden_state[:, :max_sequence_length, :embedding_dim].squeeze(0).cpu().numpy()\n",
    "    return token_embeddings\n",
    "\n",
    "def process_dataset_with_bert(dataset, column, tokenizer, model, max_sequence_length=66, embedding_dim=300):\n",
    "    return np.array([words_to_embedding_sequence(\" \".join(sentence) if isinstance(sentence, list) else sentence, tokenizer, model, max_sequence_length, embedding_dim) for sentence in dataset[column]])\n",
    "\n",
    "x_train = process_dataset_with_bert(train, 'text', tokenizer, bert_model)\n",
    "x_test = process_dataset_with_bert(test, 'text', tokenizer, bert_model)\n",
    "x_validate = process_dataset_with_bert(validate, 'text', tokenizer, bert_model)\n",
    "\n",
    "print(\"X_train shape:\", x_train.shape)\n",
    "print(\"X_test shape:\", x_test.shape)\n",
    "print(\"X_val shape:\", x_validate.shape)\n"
   ]
  },
  {
   "cell_type": "markdown",
   "metadata": {},
   "source": [
    "Creation Model LSTM"
   ]
  },
  {
   "cell_type": "code",
   "execution_count": 23,
   "metadata": {},
   "outputs": [
    {
     "name": "stderr",
     "output_type": "stream",
     "text": [
      "c:\\Users\\ADMIN\\AppData\\Local\\Programs\\Python\\Python312\\Lib\\site-packages\\keras\\src\\layers\\rnn\\rnn.py:200: UserWarning: Do not pass an `input_shape`/`input_dim` argument to a layer. When using Sequential models, prefer using an `Input(shape)` object as the first layer in the model instead.\n",
      "  super().__init__(**kwargs)\n"
     ]
    },
    {
     "data": {
      "text/html": [
       "<pre style=\"white-space:pre;overflow-x:auto;line-height:normal;font-family:Menlo,'DejaVu Sans Mono',consolas,'Courier New',monospace\"><span style=\"font-weight: bold\">Model: \"sequential_7\"</span>\n",
       "</pre>\n"
      ],
      "text/plain": [
       "\u001b[1mModel: \"sequential_7\"\u001b[0m\n"
      ]
     },
     "metadata": {},
     "output_type": "display_data"
    },
    {
     "data": {
      "text/html": [
       "<pre style=\"white-space:pre;overflow-x:auto;line-height:normal;font-family:Menlo,'DejaVu Sans Mono',consolas,'Courier New',monospace\">┏━━━━━━━━━━━━━━━━━━━━━━━━━━━━━━━━━┳━━━━━━━━━━━━━━━━━━━━━━━━┳━━━━━━━━━━━━━━━┓\n",
       "┃<span style=\"font-weight: bold\"> Layer (type)                    </span>┃<span style=\"font-weight: bold\"> Output Shape           </span>┃<span style=\"font-weight: bold\">       Param # </span>┃\n",
       "┡━━━━━━━━━━━━━━━━━━━━━━━━━━━━━━━━━╇━━━━━━━━━━━━━━━━━━━━━━━━╇━━━━━━━━━━━━━━━┩\n",
       "│ lstm_7 (<span style=\"color: #0087ff; text-decoration-color: #0087ff\">LSTM</span>)                   │ (<span style=\"color: #00d7ff; text-decoration-color: #00d7ff\">None</span>, <span style=\"color: #00af00; text-decoration-color: #00af00\">128</span>)            │       <span style=\"color: #00af00; text-decoration-color: #00af00\">219,648</span> │\n",
       "├─────────────────────────────────┼────────────────────────┼───────────────┤\n",
       "│ dropout_7 (<span style=\"color: #0087ff; text-decoration-color: #0087ff\">Dropout</span>)             │ (<span style=\"color: #00d7ff; text-decoration-color: #00d7ff\">None</span>, <span style=\"color: #00af00; text-decoration-color: #00af00\">128</span>)            │             <span style=\"color: #00af00; text-decoration-color: #00af00\">0</span> │\n",
       "├─────────────────────────────────┼────────────────────────┼───────────────┤\n",
       "│ dense_7 (<span style=\"color: #0087ff; text-decoration-color: #0087ff\">Dense</span>)                 │ (<span style=\"color: #00d7ff; text-decoration-color: #00d7ff\">None</span>, <span style=\"color: #00af00; text-decoration-color: #00af00\">5</span>)              │           <span style=\"color: #00af00; text-decoration-color: #00af00\">645</span> │\n",
       "└─────────────────────────────────┴────────────────────────┴───────────────┘\n",
       "</pre>\n"
      ],
      "text/plain": [
       "┏━━━━━━━━━━━━━━━━━━━━━━━━━━━━━━━━━┳━━━━━━━━━━━━━━━━━━━━━━━━┳━━━━━━━━━━━━━━━┓\n",
       "┃\u001b[1m \u001b[0m\u001b[1mLayer (type)                   \u001b[0m\u001b[1m \u001b[0m┃\u001b[1m \u001b[0m\u001b[1mOutput Shape          \u001b[0m\u001b[1m \u001b[0m┃\u001b[1m \u001b[0m\u001b[1m      Param #\u001b[0m\u001b[1m \u001b[0m┃\n",
       "┡━━━━━━━━━━━━━━━━━━━━━━━━━━━━━━━━━╇━━━━━━━━━━━━━━━━━━━━━━━━╇━━━━━━━━━━━━━━━┩\n",
       "│ lstm_7 (\u001b[38;5;33mLSTM\u001b[0m)                   │ (\u001b[38;5;45mNone\u001b[0m, \u001b[38;5;34m128\u001b[0m)            │       \u001b[38;5;34m219,648\u001b[0m │\n",
       "├─────────────────────────────────┼────────────────────────┼───────────────┤\n",
       "│ dropout_7 (\u001b[38;5;33mDropout\u001b[0m)             │ (\u001b[38;5;45mNone\u001b[0m, \u001b[38;5;34m128\u001b[0m)            │             \u001b[38;5;34m0\u001b[0m │\n",
       "├─────────────────────────────────┼────────────────────────┼───────────────┤\n",
       "│ dense_7 (\u001b[38;5;33mDense\u001b[0m)                 │ (\u001b[38;5;45mNone\u001b[0m, \u001b[38;5;34m5\u001b[0m)              │           \u001b[38;5;34m645\u001b[0m │\n",
       "└─────────────────────────────────┴────────────────────────┴───────────────┘\n"
      ]
     },
     "metadata": {},
     "output_type": "display_data"
    },
    {
     "data": {
      "text/html": [
       "<pre style=\"white-space:pre;overflow-x:auto;line-height:normal;font-family:Menlo,'DejaVu Sans Mono',consolas,'Courier New',monospace\"><span style=\"font-weight: bold\"> Total params: </span><span style=\"color: #00af00; text-decoration-color: #00af00\">220,293</span> (860.52 KB)\n",
       "</pre>\n"
      ],
      "text/plain": [
       "\u001b[1m Total params: \u001b[0m\u001b[38;5;34m220,293\u001b[0m (860.52 KB)\n"
      ]
     },
     "metadata": {},
     "output_type": "display_data"
    },
    {
     "data": {
      "text/html": [
       "<pre style=\"white-space:pre;overflow-x:auto;line-height:normal;font-family:Menlo,'DejaVu Sans Mono',consolas,'Courier New',monospace\"><span style=\"font-weight: bold\"> Trainable params: </span><span style=\"color: #00af00; text-decoration-color: #00af00\">220,293</span> (860.52 KB)\n",
       "</pre>\n"
      ],
      "text/plain": [
       "\u001b[1m Trainable params: \u001b[0m\u001b[38;5;34m220,293\u001b[0m (860.52 KB)\n"
      ]
     },
     "metadata": {},
     "output_type": "display_data"
    },
    {
     "data": {
      "text/html": [
       "<pre style=\"white-space:pre;overflow-x:auto;line-height:normal;font-family:Menlo,'DejaVu Sans Mono',consolas,'Courier New',monospace\"><span style=\"font-weight: bold\"> Non-trainable params: </span><span style=\"color: #00af00; text-decoration-color: #00af00\">0</span> (0.00 B)\n",
       "</pre>\n"
      ],
      "text/plain": [
       "\u001b[1m Non-trainable params: \u001b[0m\u001b[38;5;34m0\u001b[0m (0.00 B)\n"
      ]
     },
     "metadata": {},
     "output_type": "display_data"
    }
   ],
   "source": [
    "def create_lstm_model(input_shape, num_classes, lstm_units=128):\n",
    "    model = Sequential()\n",
    "    model.add(LSTM(lstm_units, input_shape=input_shape, return_sequences=False))\n",
    "    model.add(Dropout(0.3))\n",
    "    model.add(Dense(num_classes, activation='softmax'))\n",
    "    model.compile(loss='categorical_crossentropy', optimizer=Adam(), metrics=['accuracy'])\n",
    "    return model\n",
    "\n",
    "input_shape = (66, 300)\n",
    "num_classes = 5\n",
    "lstm_model = create_lstm_model(input_shape, num_classes)\n",
    "lstm_model.summary()\n"
   ]
  },
  {
   "cell_type": "code",
   "execution_count": 24,
   "metadata": {},
   "outputs": [
    {
     "name": "stdout",
     "output_type": "stream",
     "text": [
      "Epoch 1/14\n",
      "\u001b[1m234/234\u001b[0m \u001b[32m━━━━━━━━━━━━━━━━━━━━\u001b[0m\u001b[37m\u001b[0m \u001b[1m30s\u001b[0m 118ms/step - accuracy: 0.3918 - loss: 1.3874 - val_accuracy: 0.6295 - val_loss: 0.9696\n",
      "Epoch 2/14\n",
      "\u001b[1m234/234\u001b[0m \u001b[32m━━━━━━━━━━━━━━━━━━━━\u001b[0m\u001b[37m\u001b[0m \u001b[1m31s\u001b[0m 134ms/step - accuracy: 0.6239 - loss: 0.9793 - val_accuracy: 0.7353 - val_loss: 0.7597\n",
      "Epoch 3/14\n",
      "\u001b[1m234/234\u001b[0m \u001b[32m━━━━━━━━━━━━━━━━━━━━\u001b[0m\u001b[37m\u001b[0m \u001b[1m32s\u001b[0m 136ms/step - accuracy: 0.7252 - loss: 0.7113 - val_accuracy: 0.8119 - val_loss: 0.5610\n",
      "Epoch 4/14\n",
      "\u001b[1m234/234\u001b[0m \u001b[32m━━━━━━━━━━━━━━━━━━━━\u001b[0m\u001b[37m\u001b[0m \u001b[1m32s\u001b[0m 136ms/step - accuracy: 0.8408 - loss: 0.4643 - val_accuracy: 0.7087 - val_loss: 0.5746\n",
      "Epoch 5/14\n",
      "\u001b[1m234/234\u001b[0m \u001b[32m━━━━━━━━━━━━━━━━━━━━\u001b[0m\u001b[37m\u001b[0m \u001b[1m31s\u001b[0m 132ms/step - accuracy: 0.8455 - loss: 0.4376 - val_accuracy: 0.8624 - val_loss: 0.3614\n",
      "Epoch 6/14\n",
      "\u001b[1m234/234\u001b[0m \u001b[32m━━━━━━━━━━━━━━━━━━━━\u001b[0m\u001b[37m\u001b[0m \u001b[1m32s\u001b[0m 139ms/step - accuracy: 0.8975 - loss: 0.2794 - val_accuracy: 0.9046 - val_loss: 0.2931\n",
      "Epoch 7/14\n",
      "\u001b[1m234/234\u001b[0m \u001b[32m━━━━━━━━━━━━━━━━━━━━\u001b[0m\u001b[37m\u001b[0m \u001b[1m32s\u001b[0m 135ms/step - accuracy: 0.9282 - loss: 0.2055 - val_accuracy: 0.9130 - val_loss: 0.2556\n",
      "Epoch 8/14\n",
      "\u001b[1m234/234\u001b[0m \u001b[32m━━━━━━━━━━━━━━━━━━━━\u001b[0m\u001b[37m\u001b[0m \u001b[1m32s\u001b[0m 138ms/step - accuracy: 0.9317 - loss: 0.1838 - val_accuracy: 0.9119 - val_loss: 0.2515\n",
      "Epoch 9/14\n",
      "\u001b[1m234/234\u001b[0m \u001b[32m━━━━━━━━━━━━━━━━━━━━\u001b[0m\u001b[37m\u001b[0m \u001b[1m32s\u001b[0m 137ms/step - accuracy: 0.9347 - loss: 0.1662 - val_accuracy: 0.9046 - val_loss: 0.3082\n",
      "Epoch 10/14\n",
      "\u001b[1m234/234\u001b[0m \u001b[32m━━━━━━━━━━━━━━━━━━━━\u001b[0m\u001b[37m\u001b[0m \u001b[1m32s\u001b[0m 135ms/step - accuracy: 0.9389 - loss: 0.1534 - val_accuracy: 0.9218 - val_loss: 0.2009\n",
      "Epoch 11/14\n",
      "\u001b[1m234/234\u001b[0m \u001b[32m━━━━━━━━━━━━━━━━━━━━\u001b[0m\u001b[37m\u001b[0m \u001b[1m32s\u001b[0m 137ms/step - accuracy: 0.9496 - loss: 0.1150 - val_accuracy: 0.9260 - val_loss: 0.2037\n",
      "Epoch 12/14\n",
      "\u001b[1m234/234\u001b[0m \u001b[32m━━━━━━━━━━━━━━━━━━━━\u001b[0m\u001b[37m\u001b[0m \u001b[1m32s\u001b[0m 135ms/step - accuracy: 0.9474 - loss: 0.1243 - val_accuracy: 0.9244 - val_loss: 0.2164\n",
      "Epoch 13/14\n",
      "\u001b[1m234/234\u001b[0m \u001b[32m━━━━━━━━━━━━━━━━━━━━\u001b[0m\u001b[37m\u001b[0m \u001b[1m30s\u001b[0m 126ms/step - accuracy: 0.9489 - loss: 0.1203 - val_accuracy: 0.9302 - val_loss: 0.1946\n",
      "Epoch 14/14\n",
      "\u001b[1m234/234\u001b[0m \u001b[32m━━━━━━━━━━━━━━━━━━━━\u001b[0m\u001b[37m\u001b[0m \u001b[1m40s\u001b[0m 172ms/step - accuracy: 0.9519 - loss: 0.1048 - val_accuracy: 0.9265 - val_loss: 0.2081\n"
     ]
    },
    {
     "data": {
      "image/png": "[encoded data removed]",
      "text/plain": [
       "<Figure size 640x480 with 1 Axes>"
      ]
     },
     "metadata": {},
     "output_type": "display_data"
    },
    {
     "name": "stdout",
     "output_type": "stream",
     "text": [
      "\u001b[1m61/61\u001b[0m \u001b[32m━━━━━━━━━━━━━━━━━━━━\u001b[0m\u001b[37m\u001b[0m \u001b[1m2s\u001b[0m 40ms/step - accuracy: 0.9282 - loss: 0.1933\n",
      "Test Loss: 0.2179, Test Accuracy: 0.9235\n",
      "\u001b[1m61/61\u001b[0m \u001b[32m━━━━━━━━━━━━━━━━━━━━\u001b[0m\u001b[37m\u001b[0m \u001b[1m3s\u001b[0m 37ms/step\n",
      "Accuracy: 0.9234746639089969\n",
      "\n",
      "Classification Report:\n",
      "\n",
      "              precision    recall  f1-score   support\n",
      "\n",
      "     sadness       0.95      0.94      0.95       581\n",
      "         joy       0.91      0.95      0.93       695\n",
      "        love       0.92      0.68      0.78       159\n",
      "       anger       0.90      0.93      0.92       275\n",
      "        fear       0.91      0.95      0.93       224\n",
      "\n",
      "    accuracy                           0.92      1934\n",
      "   macro avg       0.92      0.89      0.90      1934\n",
      "weighted avg       0.92      0.92      0.92      1934\n",
      "\n"
     ]
    }
   ],
   "source": [
    "# Entraînement du modèle avec validation à chaque époque\n",
    "history = lstm_model.fit(\n",
    "    x_train, y_train,  # Données d'entraînement\n",
    "    validation_data=(x_validate, y_validate),  # Données de validation\n",
    "    epochs=14,  # Nombre d'époques\n",
    "    batch_size=66  # Taille des lots\n",
    ")\n",
    "\n",
    "# Visualisation de l'accuracy d'entraînement et de validation\n",
    "plt.plot(history.history['accuracy'], label='Train Accuracy')\n",
    "plt.plot(history.history['loss'], label='Loss')\n",
    "plt.title('Précision d\\'entraînement et validation')\n",
    "plt.xlabel('Époque')\n",
    "plt.ylabel('Précision')\n",
    "plt.legend()\n",
    "plt.show()\n",
    "\n",
    "# Évaluation du modèle sur le jeu de test\n",
    "test_loss, test_accuracy = lstm_model.evaluate(x_test, y_test)\n",
    "print(f\"Test Loss: {test_loss:.4f}, Test Accuracy: {test_accuracy:.4f}\")\n",
    "\n",
    "# Prédictions sur le jeu de test\n",
    "y_pred = lstm_model.predict(x_test)\n",
    "y_pred_classes = np.argmax(y_pred, axis=1)\n",
    "y_true = np.argmax(y_test, axis=1)\n",
    "\n",
    "# Calcul des métriques (accuracy, précision, rappel, F1-score)\n",
    "print(\"Accuracy:\", accuracy_score(y_true, y_pred_classes))\n",
    "print(\"\\nClassification Report:\\n\")\n",
    "print(classification_report(y_true, y_pred_classes, target_names=['sadness', 'joy', 'love', 'anger', 'fear']))"
   ]
  },
  {
   "cell_type": "code",
   "execution_count": null,
   "metadata": {},
   "outputs": [],
   "source": []
  }
 ],
 "metadata": {
  "kernelspec": {
   "display_name": "Python 3",
   "language": "python",
   "name": "python3"
  },
  "language_info": {
   "codemirror_mode": {
    "name": "ipython",
    "version": 3
   },
   "file_extension": ".py",
   "mimetype": "text/x-python",
   "name": "python",
   "nbconvert_exporter": "python",
   "pygments_lexer": "ipython3",
   "version": "3.12.1"
  }
 },
 "nbformat": 4,
 "nbformat_minor": 2
}
